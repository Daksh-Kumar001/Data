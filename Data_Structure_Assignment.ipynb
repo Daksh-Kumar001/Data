{
 "cells": [
  {
   "cell_type": "code",
   "execution_count": 2,
   "id": "1ce15ef3-d2fa-47f3-8cb4-16b4bd2ad2b7",
   "metadata": {},
   "outputs": [],
   "source": [
    "# Question 1: Discuss string slicing and provide examples.\n",
    "\n",
    "# Answer 1 - String slicing is a method in Python to access a specific part or \"slice\" of a string.\n",
    "# It’s done by specifying a range of indices within square brackets, [start:end:step], where start is \n",
    "# the beginning index, end is the stopping index (not included in the slice), and step determines the\n",
    "# interval of characters selected. String slicing is useful for tasks like extracting specific data\n",
    "# segments, reversing strings, or checking for palindromes.\n",
    "\n",
    "# Examples:\n",
    "# str = \"Hello, world!\"\n",
    "\n",
    "# Extracting \"Hello\"\n",
    "# print(text[0:5])  # Output: Hello\n",
    "\n",
    "# Slicing with steps, taking every second character\n",
    "# print(text[0:12:2])  # Output: Hlo ol\n",
    "\n",
    "# Reversing a string\n",
    "# print(text[::-1])  # Output: !dlroW ,olleH"
   ]
  },
  {
   "cell_type": "code",
   "execution_count": null,
   "id": "8a4677f9-3032-451a-8387-219ec16c2a19",
   "metadata": {},
   "outputs": [],
   "source": [
    "# Question 2: Explain the key features of lists in Python.\n",
    "\n",
    "# Answer 2 - Lists in Python are mutable, ordered, and versatile collections that allow \n",
    "# for storing heterogeneous data types. Key features of lists include:\n",
    "\n",
    "# Mutability: Elements can be changed after creation.\n",
    "# Order Preservation: Elements maintain their position as inserted.\n",
    "# Heterogeneity: Lists can hold various data types, including integers, strings, and even other lists.\n",
    "# Dynamic Sizing: Lists automatically resize to accommodate new elements, so no predefined size is necessary.\n",
    "\n",
    "# Example:\n",
    "\n",
    "# list = [1, \"PWSKILLS\", 3.14, True, 5 +6J]"
   ]
  },
  {
   "cell_type": "code",
   "execution_count": null,
   "id": "e9dcd3cc-572e-4109-8484-7606c43588fd",
   "metadata": {},
   "outputs": [],
   "source": [
    "# Question 3: Describe how to access, modify, and delete elements in a list with examples.\n",
    "\n",
    "# Answer 3 - Access: List elements can be accessed using their index (e.g., list[index]).\n",
    "#            Modify: Elements can be modified by assigning a new value to a specific index.\n",
    "#            Delete: Elements can be removed using methods like del, remove(), and pop().\n",
    "# Examples:\n",
    "\n",
    "# Accessing elements\n",
    "# colors = [\"red\", \"blue\", \"green\"]\n",
    "# print(colors[1])  # Output: blue\n",
    "\n",
    "# Modifying elements\n",
    "# colors[1] = \"yellow\"\n",
    "# print(colors)  # Output: [\"red\", \"yellow\", \"green\"]\n",
    "\n",
    "# # Deleting elements\n",
    "# del colors[0]  # Deletes \"red\"\n",
    "# colors.remove(\"green\")  # Removes \"green\"\n",
    "# print(colors)  # Output: [\"yellow\"]"
   ]
  },
  {
   "cell_type": "code",
   "execution_count": null,
   "id": "c6302567-82d2-49cf-8158-6ccf7d1ea91b",
   "metadata": {},
   "outputs": [],
   "source": [
    "# Question 4: Compare and contrast tuples and lists with examples.\n",
    "\n",
    "# Answer 4 - Lists are mutable, meaning their elements can be changed, while Tuples are immutable, making them ideal for fixed data.\n",
    "# Lists are defined with square brackets [], while Tuples use parentheses ().\n",
    "# Tuples are generally faster than lists, especially for iterations.\n",
    "\n",
    "# Examples:\n",
    "# List example\n",
    "# fruits = [\"apple\", \"banana\", \"cherry\"]\n",
    "# fruits[1] = \"blueberry\"  # Mutable, element changed\n",
    "# print(fruits)  # Output: [\"apple\", \"blueberry\", \"cherry\"]\n",
    "\n",
    "# Tuple example\n",
    "# coordinates = (10, 20, 30)\n",
    "# coordinates[0] = 15  # Error: Tuples are immutable"
   ]
  },
  {
   "cell_type": "code",
   "execution_count": null,
   "id": "13bf800c-78a4-4c8b-b948-b6caf0dfb860",
   "metadata": {},
   "outputs": [],
   "source": [
    "# Question 5: Describe the key features of sets and provide examples of their use.\n",
    "\n",
    "# Answer 5 - Sets in Python are unordered collections of unique elements, which means they automatically discard duplicates. Key features include:\n",
    "#            No Duplicates: Any duplicate elements are automatically removed.\n",
    "#            Unordered: Set elements don’t maintain any order.\n",
    "#            Fast Membership Testing: Sets provide an efficient way to check if an element is present.\n",
    "\n",
    "# Example:\n",
    "# Removing duplicates from a list using a set\n",
    "# numbers = [1, 2, 2, 3, 4, 4, 5]\n",
    "# unique_numbers = set(numbers)\n",
    "# print(unique_numbers)  # Output: {1, 2, 3, 4, 5}"
   ]
  },
  {
   "cell_type": "code",
   "execution_count": null,
   "id": "d7fe6c0a-a6ec-4e9f-8c88-f0598e8d1e73",
   "metadata": {},
   "outputs": [],
   "source": [
    "# Question 6: Discuss the use cases of tuples and sets in Python programming.\n",
    "\n",
    "# Answer 6 - Tuples are suitable for data that shouldn’t change, such as coordinates or configuration settings.\n",
    "# Sets are useful when we need to perform membership tests, find unique items, or perform operations like union and intersection.\n",
    "# Example Use Case:\n",
    "\n",
    "# Tuple: (latitude, longitude) coordinates to represent a location.\n",
    "# Set: {\"apple\", \"orange\", \"banana\"} to store unique fruits collected from multiple sources."
   ]
  },
  {
   "cell_type": "code",
   "execution_count": null,
   "id": "ae4d4b68-42e1-4c19-b96a-091d686170d4",
   "metadata": {},
   "outputs": [],
   "source": [
    "# Question 7: Describe how to add, modify, and delete items in a dictionary with examples.\n",
    "\n",
    "# Answer 7 - Dictionaries store key-value pairs and provide flexibility in adding, modifying, and deleting items.\n",
    "\n",
    "# Adding: Use dict[key] = value to add a new key-value pair.\n",
    "# Modifying: Update an existing key’s value in the same way.\n",
    "# Deleting: Use del dict[key] or the pop() method.\n",
    "\n",
    "# Examples:\n",
    "# person = {\"name\": \"Alice\", \"age\": 25}\n",
    "\n",
    "# Adding\n",
    "# person[\"city\"] = \"New York\"   # Output:{\"name\": \"Alice\", \"age\": 25, \"city\": \"New York\"}\n",
    "\n",
    "# Modifying\n",
    "# person[\"age\"] = 26    # Output:{\"name\": \"Alice\", \"age\": 26, \"city\": \"New York\"}\n",
    "\n",
    "# Deleting\n",
    "# del person[\"city\"]\n",
    "\n",
    "# print(person)  # Output: {\"name\": \"Alice\", \"age\": 26}"
   ]
  },
  {
   "cell_type": "code",
   "execution_count": null,
   "id": "e9392e42-2e50-42a5-89f3-4e58de6b0ece",
   "metadata": {},
   "outputs": [],
   "source": [
    "# Question 8: Discuss the importance of dictionary keys being immutable and provide examples.\n",
    "\n",
    "# Answer 8 - Dictionary keys in Python must be immutable types (like strings, numbers, or tuples) to\n",
    "# ensure they can’t change, which allows Python to use hashing to quickly access values. If keys were\n",
    "# mutable, their hash values could change, leading to unexpected behavior or errors.\n",
    "\n",
    "# Example:\n",
    "# Valid key types\n",
    "# my_dict = {\"name\": \"John\", 10: \"age\"}\n",
    "\n",
    "# Invalid key example (would cause an error)\n",
    "# my_dict = {[1, 2, 3]: \"list as key\"}  # Lists are mutable"
   ]
  }
 ],
 "metadata": {
  "kernelspec": {
   "display_name": "Python 3 (ipykernel)",
   "language": "python",
   "name": "python3"
  },
  "language_info": {
   "codemirror_mode": {
    "name": "ipython",
    "version": 3
   },
   "file_extension": ".py",
   "mimetype": "text/x-python",
   "name": "python",
   "nbconvert_exporter": "python",
   "pygments_lexer": "ipython3",
   "version": "3.12.7"
  }
 },
 "nbformat": 4,
 "nbformat_minor": 5
}
